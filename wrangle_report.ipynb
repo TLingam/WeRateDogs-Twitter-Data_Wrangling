{
 "cells": [
  {
   "cell_type": "markdown",
   "metadata": {},
   "source": [
    "# WeRateDogs Twitter Data Wrangling Report\n",
    "\n",
    "> _Tarun Lingam_"
   ]
  },
  {
   "cell_type": "markdown",
   "metadata": {},
   "source": [
    "## Overview\n",
    "- The task is to aggregate data from various sources:\n",
    " * given files\n",
    " * programmatically downloaded ones\n",
    " * data extracted via the Twitter API.\n",
    "\n",
    "Some of the wording for the task was a little ambiguous, but I interpreted it as using the tweet_id's in the given file, extract additional information for them via the API, and then join it with the image data.\n",
    "- Then an open-ended analysis was to be performed."
   ]
  },
  {
   "cell_type": "markdown",
   "metadata": {},
   "source": [
    "## Process\n",
    "### Gather\n",
    "- The first data source, twitter_archive_enhanced.csv, was “on-hand” and available for direct download.\n",
    "- The second piece, the image_predictions.tsv file, was hosted on a Udacity server, so the Request library was used to download it.\n",
    "- The third piece had to be created. Tweet data was needed that could be found on Twitter itself, so this data was obtained using the Tweepy library to work with the Twitter API. \n",
    "- This information was returned as JSON data, and stored in a text file.\n",
    "\n",
    "After gathering the data, each file was read into its own data frame and then assessed.\n",
    "\n",
    "### Assess\n",
    "- The twitter_archive information had a number of data type issues for the columns (e.g. - 'doggo', 'floofer', 'puppo', and 'pupper' should be categories, not strings), which were fairly straightforward, but the biggest hurdle was the rating system.\n",
    "- The numerators spanned from 0 to 1776, and the denominator had values from 0 to 170. Upon closer investigation, several issues emerged. \n",
    " * The ratings were obtained from the tweet text, but if another piece of the text contained a “#/#” format, such as “24/7” or “9/11”, it could get erroneously pulled into the rating.   \n",
    "- There were many ratings with denominators greater than 10. Specifically, they were multiples of 10.\n",
    "- The column headers in the image_predictions data could be more descriptive and a couple of data type issues.\n",
    "\n",
    "### Clean\n",
    "- To fix the erronous ratings in thhe twitter_archive data, I extracted the rating from the text, using a more specific regular expression. That cleared up a number of formerly problematic ratings.\n",
    "- For the tweets having ratings with denominators greater than 10, the text indicated that the picture had more than one dog, which lead me to believe that the rating was multiplied by the number of dogs in the picture.\n",
    "- To fix this issue, I created a column to show the number of dogs, and normalized each rating to have a denominator of 10.\n",
    "- I dropped the rows with missing ratings.\n",
    "- Fixed the data type issues in both the dataframes.\n",
    "- Changed the column headers in image_predictions dataframe to be more descriptive.\n",
    "- I used the twitter_archive table as the base, and then joined the image_predictions and tweet_data tables with LEFT JOINs ON tweet_id.\n",
    "- The resulting table was saved into a csv called ‘twitter_archive_master.csv’."
   ]
  }
 ],
 "metadata": {
  "kernelspec": {
   "display_name": "Python 3",
   "language": "python",
   "name": "python3"
  },
  "language_info": {
   "codemirror_mode": {
    "name": "ipython",
    "version": 3
   },
   "file_extension": ".py",
   "mimetype": "text/x-python",
   "name": "python",
   "nbconvert_exporter": "python",
   "pygments_lexer": "ipython3",
   "version": "3.6.3"
  }
 },
 "nbformat": 4,
 "nbformat_minor": 2
}
